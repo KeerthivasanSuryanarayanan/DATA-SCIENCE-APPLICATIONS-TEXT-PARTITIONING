{
 "cells": [
  {
   "cell_type": "code",
   "execution_count": 1,
   "id": "02df69d5",
   "metadata": {},
   "outputs": [],
   "source": [
    "#importing all necessary libraries\n",
    "import re\n",
    "import random\n",
    "import pandas as pd\n",
    "import urllib.request\n",
    "\n",
    "# Creating the Function with 2 parameters\n",
    "def partition(bi, la):\n",
    "    url = f\"http://www.gutenberg.org/files/{bi}/{bi}-0.txt\" # Downloading the book from gutenberg website\n",
    "    response = urllib.request.urlopen(url)\n",
    "    raw_text = response.read().decode('utf-8')\n",
    "    cleaned_text = re.sub(r'\\r\\n?', '\\n', raw_text).strip()# Cleaning the text\n",
    "    wo = re.findall(r'\\w+', cleaned_text)# Splitting to list of words\n",
    "    starting_indices = random.sample(range(0, len(wo) - 100), 200)# Selecting 200 random starting indices for partitions\n",
    "    partitions = []#creating empty list for partitions\n",
    "    for i in starting_indices: #iterating through the starting indices\n",
    "        partition = wo[i:i+100]\n",
    "        partitions.append(partition)#appending each partition to the partitions list\n",
    "    df = pd.DataFrame({'label': la, 'partition': partitions})# Creating a DF to store all the partitions\n",
    "    return df #the dataframe is returned\n",
    "bi_list = [245, 36530, 33005]# List of book ids on the website\n",
    "la_list = ['a', 'b', 'c']\n",
    "df_list = [] #empty lsit\n",
    "for bi, la in zip(bi_list, la_list):\n",
    "    df_list.append(partition(bi, la)) #function is being called inside and the values are appended\n",
    "df = pd.concat(df_list)# Concatenating the DataFrames and exporting to CSV format\n",
    "df.to_csv('finaloutput.csv', index=False)"
   ]
  },
  {
   "cell_type": "code",
   "execution_count": null,
   "id": "47d8aec9",
   "metadata": {},
   "outputs": [],
   "source": []
  }
 ],
 "metadata": {
  "kernelspec": {
   "display_name": "Python 3 (ipykernel)",
   "language": "python",
   "name": "python3"
  },
  "language_info": {
   "codemirror_mode": {
    "name": "ipython",
    "version": 3
   },
   "file_extension": ".py",
   "mimetype": "text/x-python",
   "name": "python",
   "nbconvert_exporter": "python",
   "pygments_lexer": "ipython3",
   "version": "3.9.12"
  }
 },
 "nbformat": 4,
 "nbformat_minor": 5
}
